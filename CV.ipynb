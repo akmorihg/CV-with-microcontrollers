{
 "cells": [
  {
   "metadata": {
    "ExecuteTime": {
     "end_time": "2024-11-19T20:23:33.241570Z",
     "start_time": "2024-11-19T20:23:29.296544Z"
    }
   },
   "cell_type": "code",
   "source": [
    "import os\n",
    "\n",
    "import tensorflow as tf\n",
    "import keras\n",
    "import matplotlib.pyplot as plt"
   ],
   "id": "46e07ecff1595fd1",
   "outputs": [
    {
     "name": "stderr",
     "output_type": "stream",
     "text": [
      "WARNING: All log messages before absl::InitializeLog() is called are written to STDERR\n",
      "E0000 00:00:1732047810.332234   25429 cuda_dnn.cc:8310] Unable to register cuDNN factory: Attempting to register factory for plugin cuDNN when one has already been registered\n",
      "E0000 00:00:1732047810.376916   25429 cuda_blas.cc:1418] Unable to register cuBLAS factory: Attempting to register factory for plugin cuBLAS when one has already been registered\n"
     ]
    }
   ],
   "execution_count": 1
  },
  {
   "metadata": {
    "ExecuteTime": {
     "end_time": "2024-11-19T20:23:34.291926Z",
     "start_time": "2024-11-19T20:23:33.840341Z"
    }
   },
   "cell_type": "code",
   "source": [
    "gpus = tf.config.experimental.list_physical_devices('GPU')\n",
    "for gpu in gpus:\n",
    "    tf.config.experimental.set_memory_growth(gpu, True)"
   ],
   "id": "6238ca41c44b955c",
   "outputs": [],
   "execution_count": 2
  },
  {
   "metadata": {
    "ExecuteTime": {
     "end_time": "2024-11-19T20:23:34.304264Z",
     "start_time": "2024-11-19T20:23:34.298077Z"
    }
   },
   "cell_type": "code",
   "source": [
    "def convert_model(_model, path):\n",
    "    converter = tf.lite.TFLiteConverter.from_keras_model(model)\n",
    "    tflite_model = converter.convert()\n",
    "\n",
    "    with open(path, 'wb') as f:\n",
    "        f.write(tflite_model)\n",
    "\n",
    "def generate_cpp(path):\n",
    "    var_names = (\n",
    "        path.replace(\"/\", \"_\").replace(\".\", \"_\"),\n",
    "        path.replace(\"/\", \"_\").replace(\".\", \"_\") + \"_len\"\n",
    "    )\n",
    "    cpp_path = path.replace(\".tflite\", \".cpp\")\n",
    "    os.system(f'xxd -i {path} > {cpp_path}')\n",
    "\n",
    "    with open(cpp_path, 'r') as f:\n",
    "        cpp_text = f.read()\n",
    "\n",
    "    h_path = cpp_path.replace(\".cpp\", \".h\")\n",
    "    with open(h_path, 'w') as f:\n",
    "        f.write(f\"extern unsigned char {var_names[0]}[];\\n\")\n",
    "        f.write(f\"extern unsigned int {var_names[1]};\")\n",
    "\n",
    "    h_name = h_path.split(\"/\")[-1]\n",
    "    with open(cpp_path, \"w\") as f:\n",
    "        f.write(f'#include \"{h_name}\"\\n\\n' + cpp_text)\n",
    "\n",
    "def get_evaluation(model, history, epochs, x_test, y_test, path):\n",
    "    train_loss = history['loss']\n",
    "    val_loss = history['val_loss']\n",
    "\n",
    "    train_acc = history['sparse_categorical_accuracy']\n",
    "    val_acc = history['val_sparse_categorical_accuracy']\n",
    "\n",
    "    figure = plt.figure()\n",
    "    plt.plot(range(1, 1 + epochs), train_loss, label='train loss')\n",
    "    plt.plot(range(1, 1 + epochs), val_loss, label='validation loss')\n",
    "    plt.xlabel('epoch')\n",
    "    plt.ylabel('loss')\n",
    "    plt.legend()\n",
    "    plt.savefig(path + \"/loss.png\")\n",
    "    plt.close(figure)\n",
    "\n",
    "    figure = plt.figure()\n",
    "    plt.plot(range(1, 1 + epochs), train_acc, label='train acc')\n",
    "    plt.plot(range(1, 1 + epochs), val_acc, label='validation acc')\n",
    "    plt.xlabel('epoch')\n",
    "    plt.ylabel('accuracy')\n",
    "    plt.legend()\n",
    "    plt.savefig(path + \"/accuracy.png\")\n",
    "    plt.close(figure)\n",
    "\n",
    "    print(model.evaluate(x_test, y_test))"
   ],
   "id": "ddc8ea2d23ef7168",
   "outputs": [],
   "execution_count": 3
  },
  {
   "metadata": {},
   "cell_type": "markdown",
   "source": "# MNIST Dataset",
   "id": "9416d74f23a629d5"
  },
  {
   "metadata": {
    "ExecuteTime": {
     "end_time": "2024-11-19T16:38:24.381669Z",
     "start_time": "2024-11-19T16:38:24.219025Z"
    }
   },
   "cell_type": "code",
   "source": "(x_train, y_train), (x_test, y_test) = keras.datasets.mnist.load_data()",
   "id": "9586926c6f029160",
   "outputs": [],
   "execution_count": 2
  },
  {
   "metadata": {
    "ExecuteTime": {
     "end_time": "2024-11-19T16:38:24.576053Z",
     "start_time": "2024-11-19T16:38:24.490464Z"
    }
   },
   "cell_type": "code",
   "source": [
    "x_train = x_train.reshape(60000, 784).astype(\"float32\") / 255\n",
    "x_test = x_test.reshape(10000, 784).astype(\"float32\") / 255\n",
    "\n",
    "y_train = y_train.astype(\"float32\")\n",
    "y_test = y_test.astype(\"float32\")\n",
    "\n",
    "x_val = x_train[-10000:]\n",
    "y_val = y_train[-10000:]\n",
    "x_train = x_train[:-10000]\n",
    "y_train = y_train[:-10000]"
   ],
   "id": "f3c76aa567c008a5",
   "outputs": [],
   "execution_count": 3
  },
  {
   "metadata": {
    "ExecuteTime": {
     "end_time": "2024-11-19T16:56:15.977160Z",
     "start_time": "2024-11-19T16:56:15.975336Z"
    }
   },
   "cell_type": "code",
   "source": [
    "epochs = 3\n",
    "lr = 0.001"
   ],
   "id": "db39f0e0fe1bc042",
   "outputs": [],
   "execution_count": 29
  },
  {
   "metadata": {
    "ExecuteTime": {
     "end_time": "2024-11-19T16:55:51.036003Z",
     "start_time": "2024-11-19T16:55:51.034233Z"
    }
   },
   "cell_type": "code",
   "source": [
    "filter_n = 10\n",
    "filter_start = 1\n",
    "filter_size_n = 3\n",
    "\n",
    "conv_x_train = x_train.reshape((50000, 28, 28, 1))\n",
    "conv_x_val = x_val.reshape((10000, 28, 28, 1))\n",
    "conv_x_test = x_test.reshape((10000, 28, 28, 1))\n",
    "\n",
    "conv_y_train = y_train\n",
    "conv_y_val = y_val\n",
    "conv_y_test = y_test\n",
    "\n",
    "for i in range(filter_start, filter_start + filter_n):\n",
    "    for j in range(1, 1 + filter_size_n):\n",
    "        model = keras.models.Sequential([\n",
    "            keras.layers.Conv2D(i, kernel_size=(j, j), activation='relu', input_shape=(28, 28, 1)),\n",
    "            keras.layers.Flatten(),\n",
    "            keras.layers.Dense(10, activation='softmax')\n",
    "        ])\n",
    "        model.compile(\n",
    "            optimizer=keras.optimizers.Adam(lr),\n",
    "            loss=keras.losses.SparseCategoricalCrossentropy(from_logits=True),\n",
    "            metrics=[keras.metrics.SparseCategoricalAccuracy()],\n",
    "        )\n",
    "\n",
    "        history = model.fit(\n",
    "            conv_x_train,\n",
    "            conv_y_train,\n",
    "            epochs=epochs,\n",
    "            validation_data=(conv_x_val, conv_y_val)\n",
    "        )\n",
    "        history = history.history\n",
    "\n",
    "        path = f\"models/conv{i}_{j}x{j}_dense\"\n",
    "        if not os.path.isdir(path):\n",
    "            os.makedirs(path)\n",
    "\n",
    "        get_evaluation(model, history, epochs, conv_x_test, conv_y_test, path)\n",
    "\n",
    "        path += f\"/conv{i}_{j}x{j}_dense.tflite\"\n",
    "        convert_model(model, path)\n",
    "        generate_cpp(path)"
   ],
   "id": "82e1855789f4f7d5",
   "outputs": [],
   "execution_count": 28
  },
  {
   "metadata": {
    "ExecuteTime": {
     "end_time": "2024-11-19T17:04:01.917034Z",
     "start_time": "2024-11-19T17:03:13.658336Z"
    }
   },
   "cell_type": "code",
   "source": [
    "for i in range(10, 100, 10):\n",
    "    model = keras.models.Sequential([\n",
    "        keras.layers.Flatten(),\n",
    "        keras.layers.Dense(i, activation='relu'),\n",
    "        keras.layers.Dense(10, activation='softmax')\n",
    "    ])\n",
    "    model.compile(\n",
    "        optimizer=keras.optimizers.Adam(lr),\n",
    "        loss=keras.losses.SparseCategoricalCrossentropy(from_logits=True),\n",
    "        metrics=[keras.metrics.SparseCategoricalAccuracy()],\n",
    "    )\n",
    "\n",
    "    history = model.fit(\n",
    "        x_train,\n",
    "        y_train,\n",
    "        epochs=epochs,\n",
    "        validation_data=(x_val, y_val)\n",
    "    )\n",
    "    history = history.history\n",
    "\n",
    "    path = f\"models/flatten_dense{i}_dense\"\n",
    "    if not os.path.isdir(path):\n",
    "        os.makedirs(path)\n",
    "\n",
    "    get_evaluation(model, history, epochs, x_test, y_test, path)\n",
    "\n",
    "    path += f\"/flatten_dense{i}_dense.tflite\"\n",
    "    convert_model(model, path)\n",
    "    generate_cpp(path)"
   ],
   "id": "608f5edf2fd60196",
   "outputs": [
    {
     "name": "stdout",
     "output_type": "stream",
     "text": [
      "Epoch 1/3\n",
      "\u001B[1m1563/1563\u001B[0m \u001B[32m━━━━━━━━━━━━━━━━━━━━\u001B[0m\u001B[37m\u001B[0m \u001B[1m2s\u001B[0m 977us/step - loss: 0.9540 - sparse_categorical_accuracy: 0.7281 - val_loss: 0.3204 - val_sparse_categorical_accuracy: 0.9110\n",
      "Epoch 2/3\n",
      "\u001B[1m1563/1563\u001B[0m \u001B[32m━━━━━━━━━━━━━━━━━━━━\u001B[0m\u001B[37m\u001B[0m \u001B[1m1s\u001B[0m 663us/step - loss: 0.3291 - sparse_categorical_accuracy: 0.9053 - val_loss: 0.2806 - val_sparse_categorical_accuracy: 0.9221\n",
      "Epoch 3/3\n",
      "\u001B[1m1563/1563\u001B[0m \u001B[32m━━━━━━━━━━━━━━━━━━━━\u001B[0m\u001B[37m\u001B[0m \u001B[1m1s\u001B[0m 765us/step - loss: 0.2917 - sparse_categorical_accuracy: 0.9167 - val_loss: 0.2647 - val_sparse_categorical_accuracy: 0.9286\n",
      "\u001B[1m313/313\u001B[0m \u001B[32m━━━━━━━━━━━━━━━━━━━━\u001B[0m\u001B[37m\u001B[0m \u001B[1m0s\u001B[0m 467us/step - loss: 0.3104 - sparse_categorical_accuracy: 0.9120\n",
      "[0.27602845430374146, 0.9218999743461609]\n",
      "INFO:tensorflow:Assets written to: /tmp/tmpcjmopdn8/assets\n"
     ]
    },
    {
     "name": "stderr",
     "output_type": "stream",
     "text": [
      "INFO:tensorflow:Assets written to: /tmp/tmpcjmopdn8/assets\n"
     ]
    },
    {
     "name": "stdout",
     "output_type": "stream",
     "text": [
      "Saved artifact at '/tmp/tmpcjmopdn8'. The following endpoints are available:\n",
      "\n",
      "* Endpoint 'serve'\n",
      "  args_0 (POSITIONAL_ONLY): TensorSpec(shape=(None, 784), dtype=tf.float32, name='keras_tensor_36')\n",
      "Output Type:\n",
      "  TensorSpec(shape=(None, 10), dtype=tf.float32, name=None)\n",
      "Captures:\n",
      "  132877568867216: TensorSpec(shape=(), dtype=tf.resource, name=None)\n",
      "  132877568868176: TensorSpec(shape=(), dtype=tf.resource, name=None)\n",
      "  132877568867600: TensorSpec(shape=(), dtype=tf.resource, name=None)\n",
      "  132877568867792: TensorSpec(shape=(), dtype=tf.resource, name=None)\n",
      "Epoch 1/3\n"
     ]
    },
    {
     "name": "stderr",
     "output_type": "stream",
     "text": [
      "W0000 00:00:1732035798.452066    3792 tf_tfl_flatbuffer_helpers.cc:365] Ignored output_format.\n",
      "W0000 00:00:1732035798.452076    3792 tf_tfl_flatbuffer_helpers.cc:368] Ignored drop_control_dependency.\n",
      "/home/moriogai/.virtualenvs/CVEsp32/lib/python3.12/site-packages/keras/src/backend/tensorflow/nn.py:635: UserWarning: \"`sparse_categorical_crossentropy` received `from_logits=True`, but the `output` argument was produced by a Softmax activation and thus does not represent logits. Was this intended?\n",
      "  output, from_logits = _get_logits(\n"
     ]
    },
    {
     "name": "stdout",
     "output_type": "stream",
     "text": [
      "\u001B[1m1563/1563\u001B[0m \u001B[32m━━━━━━━━━━━━━━━━━━━━\u001B[0m\u001B[37m\u001B[0m \u001B[1m2s\u001B[0m 898us/step - loss: 0.7161 - sparse_categorical_accuracy: 0.8005 - val_loss: 0.2442 - val_sparse_categorical_accuracy: 0.9314\n",
      "Epoch 2/3\n",
      "\u001B[1m1563/1563\u001B[0m \u001B[32m━━━━━━━━━━━━━━━━━━━━\u001B[0m\u001B[37m\u001B[0m \u001B[1m1s\u001B[0m 541us/step - loss: 0.2477 - sparse_categorical_accuracy: 0.9282 - val_loss: 0.2051 - val_sparse_categorical_accuracy: 0.9416\n",
      "Epoch 3/3\n",
      "\u001B[1m1563/1563\u001B[0m \u001B[32m━━━━━━━━━━━━━━━━━━━━\u001B[0m\u001B[37m\u001B[0m \u001B[1m1s\u001B[0m 569us/step - loss: 0.2041 - sparse_categorical_accuracy: 0.9410 - val_loss: 0.1853 - val_sparse_categorical_accuracy: 0.9490\n",
      "\u001B[1m313/313\u001B[0m \u001B[32m━━━━━━━━━━━━━━━━━━━━\u001B[0m\u001B[37m\u001B[0m \u001B[1m0s\u001B[0m 434us/step - loss: 0.2231 - sparse_categorical_accuracy: 0.9379\n",
      "[0.19138400256633759, 0.9463000297546387]\n",
      "INFO:tensorflow:Assets written to: /tmp/tmpyor8tj9q/assets\n"
     ]
    },
    {
     "name": "stderr",
     "output_type": "stream",
     "text": [
      "INFO:tensorflow:Assets written to: /tmp/tmpyor8tj9q/assets\n"
     ]
    },
    {
     "name": "stdout",
     "output_type": "stream",
     "text": [
      "Saved artifact at '/tmp/tmpyor8tj9q'. The following endpoints are available:\n",
      "\n",
      "* Endpoint 'serve'\n",
      "  args_0 (POSITIONAL_ONLY): TensorSpec(shape=(None, 784), dtype=tf.float32, name='keras_tensor_40')\n",
      "Output Type:\n",
      "  TensorSpec(shape=(None, 10), dtype=tf.float32, name=None)\n",
      "Captures:\n",
      "  132877567386320: TensorSpec(shape=(), dtype=tf.resource, name=None)\n",
      "  132877567386704: TensorSpec(shape=(), dtype=tf.resource, name=None)\n",
      "  132877568866832: TensorSpec(shape=(), dtype=tf.resource, name=None)\n",
      "  132877568866448: TensorSpec(shape=(), dtype=tf.resource, name=None)\n",
      "Epoch 1/3\n"
     ]
    },
    {
     "name": "stderr",
     "output_type": "stream",
     "text": [
      "W0000 00:00:1732035802.866013    3792 tf_tfl_flatbuffer_helpers.cc:365] Ignored output_format.\n",
      "W0000 00:00:1732035802.866025    3792 tf_tfl_flatbuffer_helpers.cc:368] Ignored drop_control_dependency.\n",
      "/home/moriogai/.virtualenvs/CVEsp32/lib/python3.12/site-packages/keras/src/backend/tensorflow/nn.py:635: UserWarning: \"`sparse_categorical_crossentropy` received `from_logits=True`, but the `output` argument was produced by a Softmax activation and thus does not represent logits. Was this intended?\n",
      "  output, from_logits = _get_logits(\n"
     ]
    },
    {
     "name": "stdout",
     "output_type": "stream",
     "text": [
      "\u001B[1m1563/1563\u001B[0m \u001B[32m━━━━━━━━━━━━━━━━━━━━\u001B[0m\u001B[37m\u001B[0m \u001B[1m2s\u001B[0m 914us/step - loss: 0.6424 - sparse_categorical_accuracy: 0.8158 - val_loss: 0.2236 - val_sparse_categorical_accuracy: 0.9354\n",
      "Epoch 2/3\n",
      "\u001B[1m1563/1563\u001B[0m \u001B[32m━━━━━━━━━━━━━━━━━━━━\u001B[0m\u001B[37m\u001B[0m \u001B[1m2s\u001B[0m 971us/step - loss: 0.2276 - sparse_categorical_accuracy: 0.9337 - val_loss: 0.1725 - val_sparse_categorical_accuracy: 0.9496\n",
      "Epoch 3/3\n",
      "\u001B[1m1563/1563\u001B[0m \u001B[32m━━━━━━━━━━━━━━━━━━━━\u001B[0m\u001B[37m\u001B[0m \u001B[1m1s\u001B[0m 562us/step - loss: 0.1762 - sparse_categorical_accuracy: 0.9496 - val_loss: 0.1556 - val_sparse_categorical_accuracy: 0.9529\n",
      "\u001B[1m313/313\u001B[0m \u001B[32m━━━━━━━━━━━━━━━━━━━━\u001B[0m\u001B[37m\u001B[0m \u001B[1m0s\u001B[0m 379us/step - loss: 0.1766 - sparse_categorical_accuracy: 0.9491\n",
      "[0.16127485036849976, 0.953000009059906]\n",
      "INFO:tensorflow:Assets written to: /tmp/tmpohalm0bl/assets\n"
     ]
    },
    {
     "name": "stderr",
     "output_type": "stream",
     "text": [
      "INFO:tensorflow:Assets written to: /tmp/tmpohalm0bl/assets\n"
     ]
    },
    {
     "name": "stdout",
     "output_type": "stream",
     "text": [
      "Saved artifact at '/tmp/tmpohalm0bl'. The following endpoints are available:\n",
      "\n",
      "* Endpoint 'serve'\n",
      "  args_0 (POSITIONAL_ONLY): TensorSpec(shape=(None, 784), dtype=tf.float32, name='keras_tensor_44')\n",
      "Output Type:\n",
      "  TensorSpec(shape=(None, 10), dtype=tf.float32, name=None)\n",
      "Captures:\n",
      "  132877835266064: TensorSpec(shape=(), dtype=tf.resource, name=None)\n",
      "  132879444146128: TensorSpec(shape=(), dtype=tf.resource, name=None)\n",
      "  132879444139600: TensorSpec(shape=(), dtype=tf.resource, name=None)\n",
      "  132879900053328: TensorSpec(shape=(), dtype=tf.resource, name=None)\n",
      "Epoch 1/3\n"
     ]
    },
    {
     "name": "stderr",
     "output_type": "stream",
     "text": [
      "W0000 00:00:1732035807.833270    3792 tf_tfl_flatbuffer_helpers.cc:365] Ignored output_format.\n",
      "W0000 00:00:1732035807.833279    3792 tf_tfl_flatbuffer_helpers.cc:368] Ignored drop_control_dependency.\n",
      "/home/moriogai/.virtualenvs/CVEsp32/lib/python3.12/site-packages/keras/src/backend/tensorflow/nn.py:635: UserWarning: \"`sparse_categorical_crossentropy` received `from_logits=True`, but the `output` argument was produced by a Softmax activation and thus does not represent logits. Was this intended?\n",
      "  output, from_logits = _get_logits(\n"
     ]
    },
    {
     "name": "stdout",
     "output_type": "stream",
     "text": [
      "\u001B[1m1563/1563\u001B[0m \u001B[32m━━━━━━━━━━━━━━━━━━━━\u001B[0m\u001B[37m\u001B[0m \u001B[1m2s\u001B[0m 975us/step - loss: 0.5788 - sparse_categorical_accuracy: 0.8401 - val_loss: 0.2117 - val_sparse_categorical_accuracy: 0.9395\n",
      "Epoch 2/3\n",
      "\u001B[1m1563/1563\u001B[0m \u001B[32m━━━━━━━━━━━━━━━━━━━━\u001B[0m\u001B[37m\u001B[0m \u001B[1m1s\u001B[0m 757us/step - loss: 0.1936 - sparse_categorical_accuracy: 0.9437 - val_loss: 0.1569 - val_sparse_categorical_accuracy: 0.9556\n",
      "Epoch 3/3\n",
      "\u001B[1m1563/1563\u001B[0m \u001B[32m━━━━━━━━━━━━━━━━━━━━\u001B[0m\u001B[37m\u001B[0m \u001B[1m1s\u001B[0m 620us/step - loss: 0.1466 - sparse_categorical_accuracy: 0.9579 - val_loss: 0.1359 - val_sparse_categorical_accuracy: 0.9605\n",
      "\u001B[1m313/313\u001B[0m \u001B[32m━━━━━━━━━━━━━━━━━━━━\u001B[0m\u001B[37m\u001B[0m \u001B[1m0s\u001B[0m 377us/step - loss: 0.1606 - sparse_categorical_accuracy: 0.9523\n",
      "[0.14068761467933655, 0.9577999711036682]\n",
      "INFO:tensorflow:Assets written to: /tmp/tmpnswfvce5/assets\n"
     ]
    },
    {
     "name": "stderr",
     "output_type": "stream",
     "text": [
      "INFO:tensorflow:Assets written to: /tmp/tmpnswfvce5/assets\n"
     ]
    },
    {
     "name": "stdout",
     "output_type": "stream",
     "text": [
      "Saved artifact at '/tmp/tmpnswfvce5'. The following endpoints are available:\n",
      "\n",
      "* Endpoint 'serve'\n",
      "  args_0 (POSITIONAL_ONLY): TensorSpec(shape=(None, 784), dtype=tf.float32, name='keras_tensor_48')\n",
      "Output Type:\n",
      "  TensorSpec(shape=(None, 10), dtype=tf.float32, name=None)\n",
      "Captures:\n",
      "  132877570037648: TensorSpec(shape=(), dtype=tf.resource, name=None)\n",
      "  132877840310800: TensorSpec(shape=(), dtype=tf.resource, name=None)\n",
      "  132877570043984: TensorSpec(shape=(), dtype=tf.resource, name=None)\n",
      "  132877840314256: TensorSpec(shape=(), dtype=tf.resource, name=None)\n",
      "Epoch 1/3\n"
     ]
    },
    {
     "name": "stderr",
     "output_type": "stream",
     "text": [
      "W0000 00:00:1732035812.822749    3792 tf_tfl_flatbuffer_helpers.cc:365] Ignored output_format.\n",
      "W0000 00:00:1732035812.822759    3792 tf_tfl_flatbuffer_helpers.cc:368] Ignored drop_control_dependency.\n",
      "/home/moriogai/.virtualenvs/CVEsp32/lib/python3.12/site-packages/keras/src/backend/tensorflow/nn.py:635: UserWarning: \"`sparse_categorical_crossentropy` received `from_logits=True`, but the `output` argument was produced by a Softmax activation and thus does not represent logits. Was this intended?\n",
      "  output, from_logits = _get_logits(\n"
     ]
    },
    {
     "name": "stdout",
     "output_type": "stream",
     "text": [
      "\u001B[1m1563/1563\u001B[0m \u001B[32m━━━━━━━━━━━━━━━━━━━━\u001B[0m\u001B[37m\u001B[0m \u001B[1m3s\u001B[0m 1ms/step - loss: 0.5933 - sparse_categorical_accuracy: 0.8322 - val_loss: 0.1923 - val_sparse_categorical_accuracy: 0.9473\n",
      "Epoch 2/3\n",
      "\u001B[1m1563/1563\u001B[0m \u001B[32m━━━━━━━━━━━━━━━━━━━━\u001B[0m\u001B[37m\u001B[0m \u001B[1m1s\u001B[0m 839us/step - loss: 0.1900 - sparse_categorical_accuracy: 0.9452 - val_loss: 0.1468 - val_sparse_categorical_accuracy: 0.9599\n",
      "Epoch 3/3\n",
      "\u001B[1m1563/1563\u001B[0m \u001B[32m━━━━━━━━━━━━━━━━━━━━\u001B[0m\u001B[37m\u001B[0m \u001B[1m1s\u001B[0m 760us/step - loss: 0.1370 - sparse_categorical_accuracy: 0.9595 - val_loss: 0.1368 - val_sparse_categorical_accuracy: 0.9613\n",
      "\u001B[1m313/313\u001B[0m \u001B[32m━━━━━━━━━━━━━━━━━━━━\u001B[0m\u001B[37m\u001B[0m \u001B[1m0s\u001B[0m 485us/step - loss: 0.1573 - sparse_categorical_accuracy: 0.9527\n",
      "[0.13701650500297546, 0.9602000117301941]\n",
      "INFO:tensorflow:Assets written to: /tmp/tmprcvi757i/assets\n"
     ]
    },
    {
     "name": "stderr",
     "output_type": "stream",
     "text": [
      "INFO:tensorflow:Assets written to: /tmp/tmprcvi757i/assets\n"
     ]
    },
    {
     "name": "stdout",
     "output_type": "stream",
     "text": [
      "Saved artifact at '/tmp/tmprcvi757i'. The following endpoints are available:\n",
      "\n",
      "* Endpoint 'serve'\n",
      "  args_0 (POSITIONAL_ONLY): TensorSpec(shape=(None, 784), dtype=tf.float32, name='keras_tensor_52')\n",
      "Output Type:\n",
      "  TensorSpec(shape=(None, 10), dtype=tf.float32, name=None)\n",
      "Captures:\n",
      "  132877433787536: TensorSpec(shape=(), dtype=tf.resource, name=None)\n",
      "  132877567382672: TensorSpec(shape=(), dtype=tf.resource, name=None)\n",
      "  132877567389392: TensorSpec(shape=(), dtype=tf.resource, name=None)\n",
      "  132877567391696: TensorSpec(shape=(), dtype=tf.resource, name=None)\n",
      "Epoch 1/3\n"
     ]
    },
    {
     "name": "stderr",
     "output_type": "stream",
     "text": [
      "W0000 00:00:1732035818.509354    3792 tf_tfl_flatbuffer_helpers.cc:365] Ignored output_format.\n",
      "W0000 00:00:1732035818.509366    3792 tf_tfl_flatbuffer_helpers.cc:368] Ignored drop_control_dependency.\n",
      "/home/moriogai/.virtualenvs/CVEsp32/lib/python3.12/site-packages/keras/src/backend/tensorflow/nn.py:635: UserWarning: \"`sparse_categorical_crossentropy` received `from_logits=True`, but the `output` argument was produced by a Softmax activation and thus does not represent logits. Was this intended?\n",
      "  output, from_logits = _get_logits(\n"
     ]
    },
    {
     "name": "stdout",
     "output_type": "stream",
     "text": [
      "\u001B[1m1563/1563\u001B[0m \u001B[32m━━━━━━━━━━━━━━━━━━━━\u001B[0m\u001B[37m\u001B[0m \u001B[1m3s\u001B[0m 1ms/step - loss: 0.5716 - sparse_categorical_accuracy: 0.8398 - val_loss: 0.1832 - val_sparse_categorical_accuracy: 0.9495\n",
      "Epoch 2/3\n",
      "\u001B[1m1563/1563\u001B[0m \u001B[32m━━━━━━━━━━━━━━━━━━━━\u001B[0m\u001B[37m\u001B[0m \u001B[1m1s\u001B[0m 874us/step - loss: 0.1817 - sparse_categorical_accuracy: 0.9490 - val_loss: 0.1486 - val_sparse_categorical_accuracy: 0.9581\n",
      "Epoch 3/3\n",
      "\u001B[1m1563/1563\u001B[0m \u001B[32m━━━━━━━━━━━━━━━━━━━━\u001B[0m\u001B[37m\u001B[0m \u001B[1m2s\u001B[0m 1ms/step - loss: 0.1217 - sparse_categorical_accuracy: 0.9654 - val_loss: 0.1221 - val_sparse_categorical_accuracy: 0.9651\n",
      "\u001B[1m313/313\u001B[0m \u001B[32m━━━━━━━━━━━━━━━━━━━━\u001B[0m\u001B[37m\u001B[0m \u001B[1m0s\u001B[0m 370us/step - loss: 0.1462 - sparse_categorical_accuracy: 0.9566\n",
      "[0.12244392186403275, 0.9632999897003174]\n",
      "INFO:tensorflow:Assets written to: /tmp/tmp0rpqcytr/assets\n"
     ]
    },
    {
     "name": "stderr",
     "output_type": "stream",
     "text": [
      "INFO:tensorflow:Assets written to: /tmp/tmp0rpqcytr/assets\n"
     ]
    },
    {
     "name": "stdout",
     "output_type": "stream",
     "text": [
      "Saved artifact at '/tmp/tmp0rpqcytr'. The following endpoints are available:\n",
      "\n",
      "* Endpoint 'serve'\n",
      "  args_0 (POSITIONAL_ONLY): TensorSpec(shape=(None, 784), dtype=tf.float32, name='keras_tensor_56')\n",
      "Output Type:\n",
      "  TensorSpec(shape=(None, 10), dtype=tf.float32, name=None)\n",
      "Captures:\n",
      "  132877433785232: TensorSpec(shape=(), dtype=tf.resource, name=None)\n",
      "  132877433792720: TensorSpec(shape=(), dtype=tf.resource, name=None)\n",
      "  132877433782544: TensorSpec(shape=(), dtype=tf.resource, name=None)\n",
      "  132877433796752: TensorSpec(shape=(), dtype=tf.resource, name=None)\n",
      "Epoch 1/3\n"
     ]
    },
    {
     "name": "stderr",
     "output_type": "stream",
     "text": [
      "W0000 00:00:1732035824.947480    3792 tf_tfl_flatbuffer_helpers.cc:365] Ignored output_format.\n",
      "W0000 00:00:1732035824.947490    3792 tf_tfl_flatbuffer_helpers.cc:368] Ignored drop_control_dependency.\n",
      "/home/moriogai/.virtualenvs/CVEsp32/lib/python3.12/site-packages/keras/src/backend/tensorflow/nn.py:635: UserWarning: \"`sparse_categorical_crossentropy` received `from_logits=True`, but the `output` argument was produced by a Softmax activation and thus does not represent logits. Was this intended?\n",
      "  output, from_logits = _get_logits(\n"
     ]
    },
    {
     "name": "stdout",
     "output_type": "stream",
     "text": [
      "\u001B[1m1563/1563\u001B[0m \u001B[32m━━━━━━━━━━━━━━━━━━━━\u001B[0m\u001B[37m\u001B[0m \u001B[1m3s\u001B[0m 1ms/step - loss: 0.5242 - sparse_categorical_accuracy: 0.8531 - val_loss: 0.1779 - val_sparse_categorical_accuracy: 0.9501\n",
      "Epoch 2/3\n",
      "\u001B[1m1563/1563\u001B[0m \u001B[32m━━━━━━━━━━━━━━━━━━━━\u001B[0m\u001B[37m\u001B[0m \u001B[1m2s\u001B[0m 1ms/step - loss: 0.1661 - sparse_categorical_accuracy: 0.9506 - val_loss: 0.1247 - val_sparse_categorical_accuracy: 0.9651\n",
      "Epoch 3/3\n",
      "\u001B[1m1563/1563\u001B[0m \u001B[32m━━━━━━━━━━━━━━━━━━━━\u001B[0m\u001B[37m\u001B[0m \u001B[1m1s\u001B[0m 629us/step - loss: 0.1152 - sparse_categorical_accuracy: 0.9668 - val_loss: 0.1122 - val_sparse_categorical_accuracy: 0.9665\n",
      "\u001B[1m313/313\u001B[0m \u001B[32m━━━━━━━━━━━━━━━━━━━━\u001B[0m\u001B[37m\u001B[0m \u001B[1m0s\u001B[0m 372us/step - loss: 0.1312 - sparse_categorical_accuracy: 0.9608\n",
      "[0.11257892847061157, 0.9660000205039978]\n",
      "INFO:tensorflow:Assets written to: /tmp/tmp93vhez0r/assets\n"
     ]
    },
    {
     "name": "stderr",
     "output_type": "stream",
     "text": [
      "INFO:tensorflow:Assets written to: /tmp/tmp93vhez0r/assets\n"
     ]
    },
    {
     "name": "stdout",
     "output_type": "stream",
     "text": [
      "Saved artifact at '/tmp/tmp93vhez0r'. The following endpoints are available:\n",
      "\n",
      "* Endpoint 'serve'\n",
      "  args_0 (POSITIONAL_ONLY): TensorSpec(shape=(None, 784), dtype=tf.float32, name='keras_tensor_60')\n",
      "Output Type:\n",
      "  TensorSpec(shape=(None, 10), dtype=tf.float32, name=None)\n",
      "Captures:\n",
      "  132877302375120: TensorSpec(shape=(), dtype=tf.resource, name=None)\n",
      "  132877302368592: TensorSpec(shape=(), dtype=tf.resource, name=None)\n",
      "  132877302371664: TensorSpec(shape=(), dtype=tf.resource, name=None)\n",
      "  132877302379536: TensorSpec(shape=(), dtype=tf.resource, name=None)\n",
      "Epoch 1/3\n"
     ]
    },
    {
     "name": "stderr",
     "output_type": "stream",
     "text": [
      "W0000 00:00:1732035830.711220    3792 tf_tfl_flatbuffer_helpers.cc:365] Ignored output_format.\n",
      "W0000 00:00:1732035830.711230    3792 tf_tfl_flatbuffer_helpers.cc:368] Ignored drop_control_dependency.\n",
      "/home/moriogai/.virtualenvs/CVEsp32/lib/python3.12/site-packages/keras/src/backend/tensorflow/nn.py:635: UserWarning: \"`sparse_categorical_crossentropy` received `from_logits=True`, but the `output` argument was produced by a Softmax activation and thus does not represent logits. Was this intended?\n",
      "  output, from_logits = _get_logits(\n"
     ]
    },
    {
     "name": "stdout",
     "output_type": "stream",
     "text": [
      "\u001B[1m1563/1563\u001B[0m \u001B[32m━━━━━━━━━━━━━━━━━━━━\u001B[0m\u001B[37m\u001B[0m \u001B[1m2s\u001B[0m 991us/step - loss: 0.5115 - sparse_categorical_accuracy: 0.8571 - val_loss: 0.1614 - val_sparse_categorical_accuracy: 0.9557\n",
      "Epoch 2/3\n",
      "\u001B[1m1563/1563\u001B[0m \u001B[32m━━━━━━━━━━━━━━━━━━━━\u001B[0m\u001B[37m\u001B[0m \u001B[1m1s\u001B[0m 629us/step - loss: 0.1548 - sparse_categorical_accuracy: 0.9547 - val_loss: 0.1153 - val_sparse_categorical_accuracy: 0.9669\n",
      "Epoch 3/3\n",
      "\u001B[1m1563/1563\u001B[0m \u001B[32m━━━━━━━━━━━━━━━━━━━━\u001B[0m\u001B[37m\u001B[0m \u001B[1m1s\u001B[0m 901us/step - loss: 0.1025 - sparse_categorical_accuracy: 0.9688 - val_loss: 0.1079 - val_sparse_categorical_accuracy: 0.9694\n",
      "\u001B[1m313/313\u001B[0m \u001B[32m━━━━━━━━━━━━━━━━━━━━\u001B[0m\u001B[37m\u001B[0m \u001B[1m0s\u001B[0m 572us/step - loss: 0.1225 - sparse_categorical_accuracy: 0.9658\n",
      "[0.1038479134440422, 0.9708999991416931]\n",
      "INFO:tensorflow:Assets written to: /tmp/tmp2vnxh_3e/assets\n"
     ]
    },
    {
     "name": "stderr",
     "output_type": "stream",
     "text": [
      "INFO:tensorflow:Assets written to: /tmp/tmp2vnxh_3e/assets\n"
     ]
    },
    {
     "name": "stdout",
     "output_type": "stream",
     "text": [
      "Saved artifact at '/tmp/tmp2vnxh_3e'. The following endpoints are available:\n",
      "\n",
      "* Endpoint 'serve'\n",
      "  args_0 (POSITIONAL_ONLY): TensorSpec(shape=(None, 784), dtype=tf.float32, name='keras_tensor_64')\n",
      "Output Type:\n",
      "  TensorSpec(shape=(None, 10), dtype=tf.float32, name=None)\n",
      "Captures:\n",
      "  132877302379728: TensorSpec(shape=(), dtype=tf.resource, name=None)\n",
      "  132877302377232: TensorSpec(shape=(), dtype=tf.resource, name=None)\n",
      "  132877302373200: TensorSpec(shape=(), dtype=tf.resource, name=None)\n",
      "  132877302376464: TensorSpec(shape=(), dtype=tf.resource, name=None)\n",
      "Epoch 1/3\n"
     ]
    },
    {
     "name": "stderr",
     "output_type": "stream",
     "text": [
      "W0000 00:00:1732035836.003343    3792 tf_tfl_flatbuffer_helpers.cc:365] Ignored output_format.\n",
      "W0000 00:00:1732035836.003352    3792 tf_tfl_flatbuffer_helpers.cc:368] Ignored drop_control_dependency.\n",
      "/home/moriogai/.virtualenvs/CVEsp32/lib/python3.12/site-packages/keras/src/backend/tensorflow/nn.py:635: UserWarning: \"`sparse_categorical_crossentropy` received `from_logits=True`, but the `output` argument was produced by a Softmax activation and thus does not represent logits. Was this intended?\n",
      "  output, from_logits = _get_logits(\n"
     ]
    },
    {
     "name": "stdout",
     "output_type": "stream",
     "text": [
      "\u001B[1m1563/1563\u001B[0m \u001B[32m━━━━━━━━━━━━━━━━━━━━\u001B[0m\u001B[37m\u001B[0m \u001B[1m3s\u001B[0m 1ms/step - loss: 0.4942 - sparse_categorical_accuracy: 0.8627 - val_loss: 0.1754 - val_sparse_categorical_accuracy: 0.9526\n",
      "Epoch 2/3\n",
      "\u001B[1m1563/1563\u001B[0m \u001B[32m━━━━━━━━━━━━━━━━━━━━\u001B[0m\u001B[37m\u001B[0m \u001B[1m1s\u001B[0m 606us/step - loss: 0.1523 - sparse_categorical_accuracy: 0.9560 - val_loss: 0.1211 - val_sparse_categorical_accuracy: 0.9654\n",
      "Epoch 3/3\n",
      "\u001B[1m1563/1563\u001B[0m \u001B[32m━━━━━━━━━━━━━━━━━━━━\u001B[0m\u001B[37m\u001B[0m \u001B[1m1s\u001B[0m 654us/step - loss: 0.0998 - sparse_categorical_accuracy: 0.9701 - val_loss: 0.1043 - val_sparse_categorical_accuracy: 0.9699\n",
      "\u001B[1m313/313\u001B[0m \u001B[32m━━━━━━━━━━━━━━━━━━━━\u001B[0m\u001B[37m\u001B[0m \u001B[1m0s\u001B[0m 374us/step - loss: 0.1142 - sparse_categorical_accuracy: 0.9674\n",
      "[0.10412027686834335, 0.9700000286102295]\n",
      "INFO:tensorflow:Assets written to: /tmp/tmpzn21ndtg/assets\n"
     ]
    },
    {
     "name": "stderr",
     "output_type": "stream",
     "text": [
      "INFO:tensorflow:Assets written to: /tmp/tmpzn21ndtg/assets\n"
     ]
    },
    {
     "name": "stdout",
     "output_type": "stream",
     "text": [
      "Saved artifact at '/tmp/tmpzn21ndtg'. The following endpoints are available:\n",
      "\n",
      "* Endpoint 'serve'\n",
      "  args_0 (POSITIONAL_ONLY): TensorSpec(shape=(None, 784), dtype=tf.float32, name='keras_tensor_68')\n",
      "Output Type:\n",
      "  TensorSpec(shape=(None, 10), dtype=tf.float32, name=None)\n",
      "Captures:\n",
      "  132877297002896: TensorSpec(shape=(), dtype=tf.resource, name=None)\n",
      "  132877296998288: TensorSpec(shape=(), dtype=tf.resource, name=None)\n",
      "  132877297005968: TensorSpec(shape=(), dtype=tf.resource, name=None)\n",
      "  132877297006736: TensorSpec(shape=(), dtype=tf.resource, name=None)\n"
     ]
    },
    {
     "name": "stderr",
     "output_type": "stream",
     "text": [
      "W0000 00:00:1732035841.817275    3792 tf_tfl_flatbuffer_helpers.cc:365] Ignored output_format.\n",
      "W0000 00:00:1732035841.817288    3792 tf_tfl_flatbuffer_helpers.cc:368] Ignored drop_control_dependency.\n"
     ]
    }
   ],
   "execution_count": 33
  },
  {
   "metadata": {
    "ExecuteTime": {
     "end_time": "2024-11-19T16:54:43.247418Z",
     "start_time": "2024-11-19T16:54:43.244313Z"
    }
   },
   "cell_type": "code",
   "source": [
    "def get_image_code(x):\n",
    "    with open(\"init_input.h\", \"w\") as f:\n",
    "        f.write('#include \"tensorflow/lite/c/common.h\" \\n\\n')\n",
    "        f.write(\"void init_input(TfLiteTensor *input);\")\n",
    "\n",
    "    with open(\"init_input.cpp\", \"w\") as f:\n",
    "        f.write('#include \"init_input.h\"\\n')\n",
    "        f.write('#include \"tensorflow/lite/c/common.h\" \\n\\n')\n",
    "        f.write(\"void init_input(TfLiteTensor *input) {\\n\")\n",
    "        for i in range(x.shape[0]):\n",
    "            for j in range(x.shape[1]):\n",
    "                f.write(f\"\\tinput->data.f[{i*x.shape[0] + j}] = {x[i][j]};\\n\")\n",
    "        f.write(\"}\\n\")"
   ],
   "id": "7e0f68bb40ba7977",
   "outputs": [],
   "execution_count": 25
  },
  {
   "metadata": {
    "ExecuteTime": {
     "end_time": "2024-11-19T16:54:43.578207Z",
     "start_time": "2024-11-19T16:54:43.575133Z"
    }
   },
   "cell_type": "code",
   "source": [
    "y = y_test[0]\n",
    "x = x_test[0].reshape((28, 28))\n",
    "print(y)"
   ],
   "id": "a5b12f24e0ed0e9c",
   "outputs": [
    {
     "name": "stdout",
     "output_type": "stream",
     "text": [
      "7.0\n"
     ]
    }
   ],
   "execution_count": 26
  },
  {
   "metadata": {
    "ExecuteTime": {
     "end_time": "2024-11-19T16:54:44.298755Z",
     "start_time": "2024-11-19T16:54:44.295719Z"
    }
   },
   "cell_type": "code",
   "source": "get_image_code(x)",
   "id": "cf66f10d3c4a8023",
   "outputs": [],
   "execution_count": 27
  },
  {
   "metadata": {
    "ExecuteTime": {
     "end_time": "2024-11-19T17:16:25.568548Z",
     "start_time": "2024-11-19T17:16:25.513743Z"
    }
   },
   "cell_type": "code",
   "source": [
    "plt.imshow(x)\n",
    "plt.show()"
   ],
   "id": "a83b77dc256a9de8",
   "outputs": [
    {
     "data": {
      "text/plain": [
       "<Figure size 640x480 with 1 Axes>"
      ],
      "image/png": "[encoded data removed]"
     },
     "metadata": {},
     "output_type": "display_data"
    }
   ],
   "execution_count": 34
  },
  {
   "metadata": {},
   "cell_type": "markdown",
   "source": "# MPII Human Pose Dataset",
   "id": "7df1ba4bf350b722"
  },
  {
   "metadata": {
    "ExecuteTime": {
     "end_time": "2024-11-19T20:23:45.873564Z",
     "start_time": "2024-11-19T20:23:45.812550Z"
    }
   },
   "cell_type": "code",
   "source": [
    "import numpy as np\n",
    "import pathlib\n",
    "import scipy.io as spio\n",
    "from tqdm.auto import tqdm"
   ],
   "id": "85d6c69ac8f20edd",
   "outputs": [],
   "execution_count": 4
  },
  {
   "metadata": {
    "ExecuteTime": {
     "end_time": "2024-11-19T20:24:37.005362Z",
     "start_time": "2024-11-19T20:23:46.590126Z"
    }
   },
   "cell_type": "code",
   "source": [
    "dataset_url = \"https://datasets.d2.mpi-inf.mpg.de/andriluka14cvpr/mpii_human_pose_v1.tar.gz\"\n",
    "archive = keras.utils.get_file(origin=dataset_url, extract=True)\n",
    "data_dir = pathlib.Path(archive)"
   ],
   "id": "2cc8c25e6ab36064",
   "outputs": [],
   "execution_count": 5
  },
  {
   "metadata": {
    "ExecuteTime": {
     "end_time": "2024-11-19T20:24:39.240572Z",
     "start_time": "2024-11-19T20:24:39.117460Z"
    }
   },
   "cell_type": "code",
   "source": [
    "path_list = list(data_dir.glob(\"*/*.jpg\"))\n",
    "n = len(path_list)"
   ],
   "id": "2bdc684066ec0d64",
   "outputs": [],
   "execution_count": 6
  },
  {
   "metadata": {
    "ExecuteTime": {
     "end_time": "2024-11-19T20:24:43.134630Z",
     "start_time": "2024-11-19T20:24:39.910292Z"
    }
   },
   "cell_type": "code",
   "source": "mpii_mat = spio.loadmat(\"mpii_human_pose_v1_u12_1.mat\")",
   "id": "c04a46fe72a2a137",
   "outputs": [],
   "execution_count": 7
  },
  {
   "metadata": {
    "ExecuteTime": {
     "end_time": "2024-11-19T20:24:44.680674Z",
     "start_time": "2024-11-19T20:24:44.677648Z"
    }
   },
   "cell_type": "code",
   "source": "mpii_metadata = mpii_mat.get(\"RELEASE\")[0][0]",
   "id": "6225bb9c277a2446",
   "outputs": [],
   "execution_count": 8
  },
  {
   "metadata": {
    "ExecuteTime": {
     "end_time": "2024-11-19T20:24:45.282897Z",
     "start_time": "2024-11-19T20:24:45.280627Z"
    }
   },
   "cell_type": "code",
   "source": [
    "annolists = mpii_metadata[\"annolist\"][0]\n",
    "acts = mpii_metadata[\"act\"]"
   ],
   "id": "43c23e0df3474232",
   "outputs": [],
   "execution_count": 9
  },
  {
   "metadata": {
    "ExecuteTime": {
     "end_time": "2024-11-19T20:28:42.148740Z",
     "start_time": "2024-11-19T20:25:07.873397Z"
    }
   },
   "cell_type": "code",
   "source": [
    "images = []\n",
    "belong_classes = []\n",
    "\n",
    "test_images = []\n",
    "\n",
    "for i in tqdm(range(n)):\n",
    "    img = keras.utils.load_img(path_list[i])\n",
    "    img = tf.image.resize(img, (75, 75))\n",
    "\n",
    "    category = acts[i][0][\"cat_name\"]\n",
    "    if category.shape[0] == 0:\n",
    "        test_images.append(img)\n",
    "    else:\n",
    "        images.append(img)\n",
    "        belong_classes.append(category[0][0])"
   ],
   "id": "bf8e8cce7c41c230",
   "outputs": [
    {
     "data": {
      "text/plain": [
       "  0%|          | 0/24984 [00:00<?, ?it/s]"
      ],
      "application/vnd.jupyter.widget-view+json": {
       "version_major": 2,
       "version_minor": 0,
       "model_id": "fbeb71a0c27f4122b18cd0385bf07128"
      }
     },
     "metadata": {},
     "output_type": "display_data"
    }
   ],
   "execution_count": 11
  },
  {
   "metadata": {
    "ExecuteTime": {
     "end_time": "2024-11-19T20:28:43.929670Z",
     "start_time": "2024-11-19T20:28:43.925422Z"
    }
   },
   "cell_type": "code",
   "source": [
    "classes_count = list(set(belong_classes))\n",
    "print(classes_count)\n",
    "print(len(classes_count))\n",
    "\n",
    "class_dict = {}\n",
    "for i in range(len(classes_count)):\n",
    "    class_dict[classes_count[i]] = i\n",
    "class_dict"
   ],
   "id": "77b332bab27e237a",
   "outputs": [
    {
     "name": "stdout",
     "output_type": "stream",
     "text": [
      "['l', 'w', 'h', 'b', 'm', 'd', 'v', 'o', 't', 'i', 'f', 'c', 'r', 's']\n",
      "14\n"
     ]
    },
    {
     "data": {
      "text/plain": [
       "{'l': 0,\n",
       " 'w': 1,\n",
       " 'h': 2,\n",
       " 'b': 3,\n",
       " 'm': 4,\n",
       " 'd': 5,\n",
       " 'v': 6,\n",
       " 'o': 7,\n",
       " 't': 8,\n",
       " 'i': 9,\n",
       " 'f': 10,\n",
       " 'c': 11,\n",
       " 'r': 12,\n",
       " 's': 13}"
      ]
     },
     "execution_count": 12,
     "metadata": {},
     "output_type": "execute_result"
    }
   ],
   "execution_count": 12
  },
  {
   "metadata": {
    "ExecuteTime": {
     "end_time": "2024-11-19T20:28:44.790730Z",
     "start_time": "2024-11-19T20:28:44.786096Z"
    }
   },
   "cell_type": "code",
   "source": [
    "for i in range(len(belong_classes)):\n",
    "    belong_classes[i] = class_dict[belong_classes[i]]"
   ],
   "id": "9fdb7d04b6747f89",
   "outputs": [],
   "execution_count": 13
  },
  {
   "metadata": {
    "ExecuteTime": {
     "end_time": "2024-11-19T20:28:45.285107Z",
     "start_time": "2024-11-19T20:28:45.279743Z"
    }
   },
   "cell_type": "code",
   "source": "belong_classes",
   "id": "6c047828a995b8a",
   "outputs": [
    {
     "data": {
      "text/plain": [
       "[13,\n",
       " 13,\n",
       " 13,\n",
       " 13,\n",
       " 13,\n",
       " 13,\n",
       " 13,\n",
       " 9,\n",
       " 9,\n",
       " 4,\n",
       " 4,\n",
       " 4,\n",
       " 4,\n",
       " 7,\n",
       " 7,\n",
       " 7,\n",
       " 7,\n",
       " 7,\n",
       " 7,\n",
       " 7,\n",
       " 7,\n",
       " 7,\n",
       " 7,\n",
       " 7,\n",
       " 7,\n",
       " 7,\n",
       " 7,\n",
       " 7,\n",
       " 7,\n",
       " 7,\n",
       " 7,\n",
       " 7,\n",
       " 7,\n",
       " 7,\n",
       " 1,\n",
       " 9,\n",
       " 1,\n",
       " 1,\n",
       " 2,\n",
       " 2,\n",
       " 2,\n",
       " 2,\n",
       " 2,\n",
       " 2,\n",
       " 2,\n",
       " 7,\n",
       " 2,\n",
       " 7,\n",
       " 0,\n",
       " 0,\n",
       " 0,\n",
       " 0,\n",
       " 0,\n",
       " 0,\n",
       " 0,\n",
       " 4,\n",
       " 4,\n",
       " 0,\n",
       " 0,\n",
       " 4,\n",
       " 4,\n",
       " 4,\n",
       " 4,\n",
       " 4,\n",
       " 13,\n",
       " 13,\n",
       " 13,\n",
       " 13,\n",
       " 13,\n",
       " 12,\n",
       " 12,\n",
       " 12,\n",
       " 1,\n",
       " 1,\n",
       " 1,\n",
       " 1,\n",
       " 1,\n",
       " 1,\n",
       " 1,\n",
       " 1,\n",
       " 1,\n",
       " 1,\n",
       " 1,\n",
       " 1,\n",
       " 1,\n",
       " 1,\n",
       " 1,\n",
       " 1,\n",
       " 1,\n",
       " 1,\n",
       " 1,\n",
       " 1,\n",
       " 1,\n",
       " 7,\n",
       " 7,\n",
       " 13,\n",
       " 13,\n",
       " 7,\n",
       " 7,\n",
       " 7,\n",
       " 7,\n",
       " 7,\n",
       " 7,\n",
       " 7,\n",
       " 7,\n",
       " 11,\n",
       " 11,\n",
       " 11,\n",
       " 11,\n",
       " 11,\n",
       " 11,\n",
       " 11,\n",
       " 11,\n",
       " 3,\n",
       " 3,\n",
       " 3,\n",
       " 11,\n",
       " 11,\n",
       " 11,\n",
       " 11,\n",
       " 11,\n",
       " 11,\n",
       " 11,\n",
       " 13,\n",
       " 13,\n",
       " 13,\n",
       " 13,\n",
       " 13,\n",
       " 13,\n",
       " 13,\n",
       " 13,\n",
       " 13,\n",
       " 13,\n",
       " 13,\n",
       " 13,\n",
       " 13,\n",
       " 13,\n",
       " 0,\n",
       " 0,\n",
       " 0,\n",
       " 0,\n",
       " 0,\n",
       " 0,\n",
       " 0,\n",
       " 0,\n",
       " 10,\n",
       " 10,\n",
       " 10,\n",
       " 10,\n",
       " 10,\n",
       " 10,\n",
       " 2,\n",
       " 2,\n",
       " 2,\n",
       " 2,\n",
       " 2,\n",
       " 2,\n",
       " 2,\n",
       " 2,\n",
       " 2,\n",
       " 2,\n",
       " 2,\n",
       " 2,\n",
       " 2,\n",
       " 5,\n",
       " 5,\n",
       " 5,\n",
       " 5,\n",
       " 5,\n",
       " 5,\n",
       " 5,\n",
       " 5,\n",
       " 5,\n",
       " 5,\n",
       " 5,\n",
       " 5,\n",
       " 11,\n",
       " 11,\n",
       " 11,\n",
       " 11,\n",
       " 11,\n",
       " 11,\n",
       " 11,\n",
       " 11,\n",
       " 11,\n",
       " 11,\n",
       " 11,\n",
       " 11,\n",
       " 11,\n",
       " 11,\n",
       " 11,\n",
       " 11,\n",
       " 11,\n",
       " 11,\n",
       " 11,\n",
       " 11,\n",
       " 11,\n",
       " 11,\n",
       " 11,\n",
       " 4,\n",
       " 4,\n",
       " 4,\n",
       " 4,\n",
       " 13,\n",
       " 13,\n",
       " 13,\n",
       " 13,\n",
       " 13,\n",
       " 13,\n",
       " 13,\n",
       " 13,\n",
       " 13,\n",
       " 13,\n",
       " 13,\n",
       " 13,\n",
       " 13,\n",
       " 13,\n",
       " 13,\n",
       " 13,\n",
       " 10,\n",
       " 10,\n",
       " 10,\n",
       " 10,\n",
       " 10,\n",
       " 10,\n",
       " 10,\n",
       " 10,\n",
       " 10,\n",
       " 10,\n",
       " 10,\n",
       " 10,\n",
       " 10,\n",
       " 0,\n",
       " 0,\n",
       " 0,\n",
       " 0,\n",
       " 4,\n",
       " 0,\n",
       " 0,\n",
       " 4,\n",
       " 4,\n",
       " 4,\n",
       " 1,\n",
       " 1,\n",
       " 1,\n",
       " 1,\n",
       " 1,\n",
       " 1,\n",
       " 1,\n",
       " 1,\n",
       " 1,\n",
       " 1,\n",
       " 1,\n",
       " 1,\n",
       " 1,\n",
       " 1,\n",
       " 1,\n",
       " 1,\n",
       " 1,\n",
       " 1,\n",
       " 3,\n",
       " 3,\n",
       " 3,\n",
       " 3,\n",
       " 3,\n",
       " 3,\n",
       " 3,\n",
       " 3,\n",
       " 3,\n",
       " 3,\n",
       " 3,\n",
       " 3,\n",
       " 3,\n",
       " 1,\n",
       " 1,\n",
       " 13,\n",
       " 13,\n",
       " 13,\n",
       " 1,\n",
       " 1,\n",
       " 1,\n",
       " 1,\n",
       " 1,\n",
       " 1,\n",
       " 1,\n",
       " 1,\n",
       " 1,\n",
       " 1,\n",
       " 1,\n",
       " 1,\n",
       " 1,\n",
       " 1,\n",
       " 1,\n",
       " 1,\n",
       " 13,\n",
       " 13,\n",
       " 13,\n",
       " 13,\n",
       " 13,\n",
       " 13,\n",
       " 13,\n",
       " 13,\n",
       " 13,\n",
       " 13,\n",
       " 4,\n",
       " 11,\n",
       " 11,\n",
       " 11,\n",
       " 11,\n",
       " 4,\n",
       " 4,\n",
       " 4,\n",
       " 11,\n",
       " 11,\n",
       " 11,\n",
       " 7,\n",
       " 7,\n",
       " 7,\n",
       " 7,\n",
       " 7,\n",
       " 7,\n",
       " 7,\n",
       " 7,\n",
       " 13,\n",
       " 13,\n",
       " 13,\n",
       " 13,\n",
       " 13,\n",
       " 13,\n",
       " 13,\n",
       " 13,\n",
       " 13,\n",
       " 13,\n",
       " 2,\n",
       " 2,\n",
       " 2,\n",
       " 2,\n",
       " 2,\n",
       " 2,\n",
       " 2,\n",
       " 2,\n",
       " 2,\n",
       " 2,\n",
       " 2,\n",
       " 1,\n",
       " 1,\n",
       " 0,\n",
       " 0,\n",
       " 0,\n",
       " 11,\n",
       " 11,\n",
       " 4,\n",
       " 4,\n",
       " 11,\n",
       " 11,\n",
       " 11,\n",
       " 4,\n",
       " 4,\n",
       " 12,\n",
       " 12,\n",
       " 12,\n",
       " 12,\n",
       " 12,\n",
       " 12,\n",
       " 12,\n",
       " 12,\n",
       " 7,\n",
       " 7,\n",
       " 7,\n",
       " 7,\n",
       " 7,\n",
       " 7,\n",
       " 7,\n",
       " 7,\n",
       " 7,\n",
       " 7,\n",
       " 13,\n",
       " 12,\n",
       " 12,\n",
       " 13,\n",
       " 13,\n",
       " 13,\n",
       " 13,\n",
       " 13,\n",
       " 13,\n",
       " 13,\n",
       " 13,\n",
       " 13,\n",
       " 13,\n",
       " 13,\n",
       " 13,\n",
       " 13,\n",
       " 13,\n",
       " 13,\n",
       " 13,\n",
       " 13,\n",
       " 13,\n",
       " 13,\n",
       " 13,\n",
       " 13,\n",
       " 13,\n",
       " 13,\n",
       " 13,\n",
       " 13,\n",
       " 13,\n",
       " 13,\n",
       " 13,\n",
       " 13,\n",
       " 13,\n",
       " 13,\n",
       " 13,\n",
       " 13,\n",
       " 13,\n",
       " 13,\n",
       " 13,\n",
       " 13,\n",
       " 13,\n",
       " 13,\n",
       " 13,\n",
       " 13,\n",
       " 13,\n",
       " 13,\n",
       " 13,\n",
       " 13,\n",
       " 13,\n",
       " 13,\n",
       " 13,\n",
       " 2,\n",
       " 2,\n",
       " 2,\n",
       " 2,\n",
       " 2,\n",
       " 2,\n",
       " 2,\n",
       " 2,\n",
       " 2,\n",
       " 0,\n",
       " 0,\n",
       " 0,\n",
       " 0,\n",
       " 0,\n",
       " 0,\n",
       " 0,\n",
       " 0,\n",
       " 0,\n",
       " 10,\n",
       " 10,\n",
       " 10,\n",
       " 10,\n",
       " 10,\n",
       " 10,\n",
       " 10,\n",
       " 2,\n",
       " 2,\n",
       " 2,\n",
       " 2,\n",
       " 2,\n",
       " 2,\n",
       " 2,\n",
       " 2,\n",
       " 2,\n",
       " 2,\n",
       " 2,\n",
       " 2,\n",
       " 2,\n",
       " 2,\n",
       " 2,\n",
       " 2,\n",
       " 2,\n",
       " 2,\n",
       " 2,\n",
       " 2,\n",
       " 6,\n",
       " 4,\n",
       " 9,\n",
       " 13,\n",
       " 1,\n",
       " 1,\n",
       " 4,\n",
       " 4,\n",
       " 4,\n",
       " 4,\n",
       " 4,\n",
       " 4,\n",
       " 11,\n",
       " 11,\n",
       " 11,\n",
       " 11,\n",
       " 11,\n",
       " 11,\n",
       " 0,\n",
       " 0,\n",
       " 0,\n",
       " 0,\n",
       " 1,\n",
       " 2,\n",
       " 2,\n",
       " 2,\n",
       " 2,\n",
       " 2,\n",
       " 2,\n",
       " 2,\n",
       " 2,\n",
       " 2,\n",
       " 2,\n",
       " 2,\n",
       " 2,\n",
       " 2,\n",
       " 2,\n",
       " 8,\n",
       " 8,\n",
       " 8,\n",
       " 7,\n",
       " 7,\n",
       " 7,\n",
       " 7,\n",
       " 7,\n",
       " 7,\n",
       " 3,\n",
       " 3,\n",
       " 3,\n",
       " 3,\n",
       " 3,\n",
       " 1,\n",
       " 1,\n",
       " 1,\n",
       " 1,\n",
       " 1,\n",
       " 11,\n",
       " 11,\n",
       " 4,\n",
       " 4,\n",
       " 4,\n",
       " 4,\n",
       " 4,\n",
       " 4,\n",
       " 4,\n",
       " 12,\n",
       " 12,\n",
       " 7,\n",
       " 7,\n",
       " 7,\n",
       " 7,\n",
       " 7,\n",
       " 13,\n",
       " 13,\n",
       " 13,\n",
       " 13,\n",
       " 13,\n",
       " 13,\n",
       " 13,\n",
       " 13,\n",
       " 13,\n",
       " 9,\n",
       " 4,\n",
       " 4,\n",
       " 4,\n",
       " 7,\n",
       " 7,\n",
       " 7,\n",
       " 7,\n",
       " 7,\n",
       " 7,\n",
       " 7,\n",
       " 7,\n",
       " 7,\n",
       " 7,\n",
       " 7,\n",
       " 7,\n",
       " 7,\n",
       " 7,\n",
       " 7,\n",
       " 7,\n",
       " 7,\n",
       " 7,\n",
       " 7,\n",
       " 7,\n",
       " 7,\n",
       " 7,\n",
       " 7,\n",
       " 7,\n",
       " 1,\n",
       " 1,\n",
       " 1,\n",
       " 1,\n",
       " 1,\n",
       " 1,\n",
       " 1,\n",
       " 4,\n",
       " 9,\n",
       " 1,\n",
       " 1,\n",
       " 1,\n",
       " 1,\n",
       " 4,\n",
       " 2,\n",
       " 2,\n",
       " 2,\n",
       " 2,\n",
       " 2,\n",
       " 7,\n",
       " 7,\n",
       " 7,\n",
       " 7,\n",
       " 7,\n",
       " 7,\n",
       " 0,\n",
       " 0,\n",
       " 0,\n",
       " 0,\n",
       " 0,\n",
       " 4,\n",
       " 4,\n",
       " 4,\n",
       " 4,\n",
       " 13,\n",
       " 12,\n",
       " 12,\n",
       " 12,\n",
       " 12,\n",
       " 12,\n",
       " 12,\n",
       " 2,\n",
       " 2,\n",
       " 1,\n",
       " 1,\n",
       " 1,\n",
       " 1,\n",
       " 1,\n",
       " 1,\n",
       " 1,\n",
       " 1,\n",
       " 1,\n",
       " 1,\n",
       " 1,\n",
       " 1,\n",
       " 1,\n",
       " 1,\n",
       " 1,\n",
       " 1,\n",
       " 1,\n",
       " 1,\n",
       " 1,\n",
       " 1,\n",
       " 1,\n",
       " 1,\n",
       " 1,\n",
       " 1,\n",
       " 1,\n",
       " 1,\n",
       " 1,\n",
       " 1,\n",
       " 1,\n",
       " 1,\n",
       " 1,\n",
       " 1,\n",
       " 1,\n",
       " 1,\n",
       " 1,\n",
       " 1,\n",
       " 1,\n",
       " 1,\n",
       " 1,\n",
       " 1,\n",
       " 1,\n",
       " 1,\n",
       " 1,\n",
       " 1,\n",
       " 1,\n",
       " 1,\n",
       " 1,\n",
       " 1,\n",
       " 1,\n",
       " 1,\n",
       " 1,\n",
       " 1,\n",
       " 1,\n",
       " 1,\n",
       " 1,\n",
       " 1,\n",
       " 1,\n",
       " 1,\n",
       " 1,\n",
       " 1,\n",
       " 1,\n",
       " 1,\n",
       " 1,\n",
       " 1,\n",
       " 1,\n",
       " 1,\n",
       " 1,\n",
       " 1,\n",
       " 1,\n",
       " 7,\n",
       " 7,\n",
       " 7,\n",
       " 7,\n",
       " 7,\n",
       " 13,\n",
       " 7,\n",
       " 13,\n",
       " 13,\n",
       " 7,\n",
       " 7,\n",
       " 7,\n",
       " 7,\n",
       " 7,\n",
       " 7,\n",
       " 7,\n",
       " 7,\n",
       " 7,\n",
       " 7,\n",
       " 7,\n",
       " 7,\n",
       " 7,\n",
       " 7,\n",
       " 7,\n",
       " 7,\n",
       " 7,\n",
       " 11,\n",
       " 11,\n",
       " 11,\n",
       " 11,\n",
       " 11,\n",
       " 3,\n",
       " 3,\n",
       " 11,\n",
       " 13,\n",
       " 13,\n",
       " 13,\n",
       " 13,\n",
       " 13,\n",
       " 13,\n",
       " 13,\n",
       " 13,\n",
       " 13,\n",
       " 13,\n",
       " 13,\n",
       " 13,\n",
       " 13,\n",
       " 13,\n",
       " 13,\n",
       " 13,\n",
       " 13,\n",
       " 13,\n",
       " 13,\n",
       " 13,\n",
       " 13,\n",
       " 13,\n",
       " 13,\n",
       " 13,\n",
       " 13,\n",
       " 13,\n",
       " 13,\n",
       " 13,\n",
       " 13,\n",
       " 13,\n",
       " 13,\n",
       " 13,\n",
       " 13,\n",
       " 13,\n",
       " 13,\n",
       " 13,\n",
       " 0,\n",
       " 0,\n",
       " 0,\n",
       " 0,\n",
       " 0,\n",
       " 0,\n",
       " 0,\n",
       " 0,\n",
       " 0,\n",
       " 7,\n",
       " 7,\n",
       " 7,\n",
       " 7,\n",
       " 7,\n",
       " 7,\n",
       " 7,\n",
       " 7,\n",
       " 7,\n",
       " 7,\n",
       " 7,\n",
       " 10,\n",
       " 10,\n",
       " 10,\n",
       " 10,\n",
       " 10,\n",
       " 10,\n",
       " 10,\n",
       " 10,\n",
       " 10,\n",
       " 10,\n",
       " 10,\n",
       " 10,\n",
       " 10,\n",
       " 10,\n",
       " 10,\n",
       " 10,\n",
       " 10,\n",
       " 2,\n",
       " 2,\n",
       " 2,\n",
       " 2,\n",
       " 2,\n",
       " 2,\n",
       " 2,\n",
       " 2,\n",
       " 2,\n",
       " 2,\n",
       " 2,\n",
       " 2,\n",
       " 2,\n",
       " 2,\n",
       " 2,\n",
       " 2,\n",
       " 2,\n",
       " 2,\n",
       " 2,\n",
       " 2,\n",
       " 2,\n",
       " 2,\n",
       " 2,\n",
       " 2,\n",
       " 2,\n",
       " 2,\n",
       " 2,\n",
       " 2,\n",
       " 2,\n",
       " 2,\n",
       " 2,\n",
       " 2,\n",
       " 2,\n",
       " 2,\n",
       " 2,\n",
       " 2,\n",
       " 2,\n",
       " 2,\n",
       " 2,\n",
       " 5,\n",
       " 5,\n",
       " 5,\n",
       " 5,\n",
       " 5,\n",
       " 5,\n",
       " 5,\n",
       " 5,\n",
       " 5,\n",
       " 11,\n",
       " 11,\n",
       " 11,\n",
       " 11,\n",
       " 11,\n",
       " 11,\n",
       " 11,\n",
       " 11,\n",
       " 11,\n",
       " 11,\n",
       " 11,\n",
       " 11,\n",
       " 11,\n",
       " 11,\n",
       " 11,\n",
       " 11,\n",
       " 11,\n",
       " 11,\n",
       " 11,\n",
       " 11,\n",
       " 11,\n",
       " 11,\n",
       " 11,\n",
       " 11,\n",
       " 11,\n",
       " 11,\n",
       " 11,\n",
       " 11,\n",
       " 11,\n",
       " 11,\n",
       " 11,\n",
       " 11,\n",
       " 11,\n",
       " 11,\n",
       " 11,\n",
       " 11,\n",
       " 11,\n",
       " 11,\n",
       " 11,\n",
       " 11,\n",
       " 11,\n",
       " 11,\n",
       " 11,\n",
       " 11,\n",
       " 11,\n",
       " 11,\n",
       " 11,\n",
       " 11,\n",
       " 11,\n",
       " 11,\n",
       " 11,\n",
       " 11,\n",
       " 11,\n",
       " 11,\n",
       " 11,\n",
       " 11,\n",
       " 11,\n",
       " 11,\n",
       " 4,\n",
       " 4,\n",
       " 4,\n",
       " 4,\n",
       " 4,\n",
       " 13,\n",
       " 13,\n",
       " 13,\n",
       " 13,\n",
       " 13,\n",
       " 13,\n",
       " 13,\n",
       " 13,\n",
       " 13,\n",
       " 13,\n",
       " 13,\n",
       " 13,\n",
       " 13,\n",
       " 13,\n",
       " 13,\n",
       " 13,\n",
       " 13,\n",
       " 13,\n",
       " 13,\n",
       " 13,\n",
       " 13,\n",
       " 13,\n",
       " 13,\n",
       " 13,\n",
       " 13,\n",
       " 13,\n",
       " 13,\n",
       " 13,\n",
       " 13,\n",
       " 13,\n",
       " 13,\n",
       " 13,\n",
       " 13,\n",
       " 13,\n",
       " 13,\n",
       " 13,\n",
       " 13,\n",
       " 13,\n",
       " 10,\n",
       " 10,\n",
       " 10,\n",
       " 10,\n",
       " 10,\n",
       " 0,\n",
       " 0,\n",
       " 0,\n",
       " 0,\n",
       " 0,\n",
       " 4,\n",
       " 4,\n",
       " 1,\n",
       " 1,\n",
       " 1,\n",
       " 1,\n",
       " 1,\n",
       " 1,\n",
       " 1,\n",
       " 1,\n",
       " 1,\n",
       " 1,\n",
       " 1,\n",
       " 1,\n",
       " 1,\n",
       " 1,\n",
       " 1,\n",
       " 1,\n",
       " 1,\n",
       " 3,\n",
       " 3,\n",
       " 3,\n",
       " 3,\n",
       " 3,\n",
       " 3,\n",
       " 3,\n",
       " 3,\n",
       " 3,\n",
       " 3,\n",
       " 3,\n",
       " 3,\n",
       " 3,\n",
       " 3,\n",
       " 3,\n",
       " 3,\n",
       " 3,\n",
       " 3,\n",
       " 3,\n",
       " 3,\n",
       " 3,\n",
       " 3,\n",
       " ...]"
      ]
     },
     "execution_count": 14,
     "metadata": {},
     "output_type": "execute_result"
    }
   ],
   "execution_count": 14
  },
  {
   "metadata": {
    "ExecuteTime": {
     "end_time": "2024-11-19T20:37:15.814394Z",
     "start_time": "2024-11-19T20:37:15.380993Z"
    }
   },
   "cell_type": "code",
   "source": [
    "np_images = np.array(images)\n",
    "np_belong_classes = np.array(belong_classes)"
   ],
   "id": "aed1666db8e8161a",
   "outputs": [],
   "execution_count": 24
  },
  {
   "metadata": {
    "ExecuteTime": {
     "end_time": "2024-11-19T20:49:35.118069Z",
     "start_time": "2024-11-19T20:49:34.635356Z"
    }
   },
   "cell_type": "code",
   "source": [
    "permutation = np.random.permutation(len(np_images))\n",
    "\n",
    "val_portion = 0.3\n",
    "train_index = int(np_images.shape[0] * val_portion)\n",
    "\n",
    "np_train_images = np_images[permutation][:train_index]\n",
    "np_val_images = np_images[permutation][train_index:]\n",
    "np_train_classes = np_belong_classes[permutation][:train_index]\n",
    "np_val_classes = np_belong_classes[permutation][train_index:]"
   ],
   "id": "8490757f8ecb8be",
   "outputs": [],
   "execution_count": 64
  },
  {
   "metadata": {
    "ExecuteTime": {
     "end_time": "2024-11-19T19:52:19.598861Z",
     "start_time": "2024-11-19T19:52:07.864179Z"
    }
   },
   "cell_type": "code",
   "source": [
    "tensor_images = tf.convert_to_tensor(np_images, dtype=tf.float32)\n",
    "tensor_belong_classes = tf.convert_to_tensor(np_belong_classes, dtype=tf.float32)"
   ],
   "id": "50ac4724211243c9",
   "outputs": [
    {
     "ename": "InternalError",
     "evalue": "Failed copying input tensor from /job:localhost/replica:0/task:0/device:CPU:0 to /job:localhost/replica:0/task:0/device:GPU:0 in order to run _EagerConst: Dst tensor is not initialized.",
     "output_type": "error",
     "traceback": [
      "\u001B[0;31m---------------------------------------------------------------------------\u001B[0m",
      "\u001B[0;31mInternalError\u001B[0m                             Traceback (most recent call last)",
      "Cell \u001B[0;32mIn[38], line 1\u001B[0m\n\u001B[0;32m----> 1\u001B[0m tensor_images \u001B[38;5;241m=\u001B[39m \u001B[43mtf\u001B[49m\u001B[38;5;241;43m.\u001B[39;49m\u001B[43mconvert_to_tensor\u001B[49m\u001B[43m(\u001B[49m\u001B[43mnp_images\u001B[49m\u001B[43m,\u001B[49m\u001B[43m \u001B[49m\u001B[43mdtype\u001B[49m\u001B[38;5;241;43m=\u001B[39;49m\u001B[43mtf\u001B[49m\u001B[38;5;241;43m.\u001B[39;49m\u001B[43mfloat32\u001B[49m\u001B[43m)\u001B[49m\n\u001B[1;32m      2\u001B[0m tensor_belong_classes \u001B[38;5;241m=\u001B[39m tf\u001B[38;5;241m.\u001B[39mconvert_to_tensor(np_belong_classes, dtype\u001B[38;5;241m=\u001B[39mtf\u001B[38;5;241m.\u001B[39mfloat32)\n",
      "File \u001B[0;32m~/.virtualenvs/CVEsp32/lib/python3.12/site-packages/tensorflow/python/util/traceback_utils.py:153\u001B[0m, in \u001B[0;36mfilter_traceback.<locals>.error_handler\u001B[0;34m(*args, **kwargs)\u001B[0m\n\u001B[1;32m    151\u001B[0m \u001B[38;5;28;01mexcept\u001B[39;00m \u001B[38;5;167;01mException\u001B[39;00m \u001B[38;5;28;01mas\u001B[39;00m e:\n\u001B[1;32m    152\u001B[0m   filtered_tb \u001B[38;5;241m=\u001B[39m _process_traceback_frames(e\u001B[38;5;241m.\u001B[39m__traceback__)\n\u001B[0;32m--> 153\u001B[0m   \u001B[38;5;28;01mraise\u001B[39;00m e\u001B[38;5;241m.\u001B[39mwith_traceback(filtered_tb) \u001B[38;5;28;01mfrom\u001B[39;00m \u001B[38;5;28;01mNone\u001B[39;00m\n\u001B[1;32m    154\u001B[0m \u001B[38;5;28;01mfinally\u001B[39;00m:\n\u001B[1;32m    155\u001B[0m   \u001B[38;5;28;01mdel\u001B[39;00m filtered_tb\n",
      "File \u001B[0;32m~/.virtualenvs/CVEsp32/lib/python3.12/site-packages/tensorflow/python/framework/constant_op.py:108\u001B[0m, in \u001B[0;36mconvert_to_eager_tensor\u001B[0;34m(value, ctx, dtype)\u001B[0m\n\u001B[1;32m    106\u001B[0m     dtype \u001B[38;5;241m=\u001B[39m dtypes\u001B[38;5;241m.\u001B[39mas_dtype(dtype)\u001B[38;5;241m.\u001B[39mas_datatype_enum\n\u001B[1;32m    107\u001B[0m ctx\u001B[38;5;241m.\u001B[39mensure_initialized()\n\u001B[0;32m--> 108\u001B[0m \u001B[38;5;28;01mreturn\u001B[39;00m \u001B[43mops\u001B[49m\u001B[38;5;241;43m.\u001B[39;49m\u001B[43mEagerTensor\u001B[49m\u001B[43m(\u001B[49m\u001B[43mvalue\u001B[49m\u001B[43m,\u001B[49m\u001B[43m \u001B[49m\u001B[43mctx\u001B[49m\u001B[38;5;241;43m.\u001B[39;49m\u001B[43mdevice_name\u001B[49m\u001B[43m,\u001B[49m\u001B[43m \u001B[49m\u001B[43mdtype\u001B[49m\u001B[43m)\u001B[49m\n",
      "\u001B[0;31mInternalError\u001B[0m: Failed copying input tensor from /job:localhost/replica:0/task:0/device:CPU:0 to /job:localhost/replica:0/task:0/device:GPU:0 in order to run _EagerConst: Dst tensor is not initialized."
     ]
    }
   ],
   "execution_count": 38
  },
  {
   "metadata": {
    "ExecuteTime": {
     "end_time": "2024-11-19T20:53:18.408341Z",
     "start_time": "2024-11-19T20:53:18.405975Z"
    }
   },
   "cell_type": "code",
   "source": [
    "epochs = 3\n",
    "lr = 0.05"
   ],
   "id": "8fea3e165597b198",
   "outputs": [],
   "execution_count": 85
  },
  {
   "metadata": {
    "ExecuteTime": {
     "end_time": "2024-11-19T20:53:18.925088Z",
     "start_time": "2024-11-19T20:53:18.922745Z"
    }
   },
   "cell_type": "code",
   "source": "np_images.shape",
   "id": "47aca521b235b6b3",
   "outputs": [
    {
     "data": {
      "text/plain": [
       "(18032, 75, 75, 3)"
      ]
     },
     "execution_count": 86,
     "metadata": {},
     "output_type": "execute_result"
    }
   ],
   "execution_count": 86
  },
  {
   "metadata": {
    "ExecuteTime": {
     "end_time": "2024-11-19T20:56:49.080085Z",
     "start_time": "2024-11-19T20:56:43.660756Z"
    }
   },
   "cell_type": "code",
   "source": [
    "model = keras.models.Sequential([\n",
    "    keras.layers.Conv2D(5, kernel_size=(3, 3), activation='relu', input_shape=(75, 75, 3)),\n",
    "    keras.layers.Flatten(),\n",
    "    keras.layers.Dense(14, activation='softmax'),\n",
    "])\n",
    "\n",
    "model.compile(\n",
    "    optimizer=keras.optimizers.AdamW(lr),\n",
    "    loss=keras.losses.SparseCategoricalCrossentropy(from_logits=True),\n",
    "    metrics=[keras.metrics.SparseCategoricalAccuracy()],\n",
    ")\n",
    "\n",
    "history = model.fit(\n",
    "    np_train_images,\n",
    "    np_train_classes,\n",
    "    epochs=epochs,\n",
    "    validation_data=(np_val_images, np_val_classes)\n",
    ")\n",
    "history = history.history\n",
    "\n",
    "path = f\"models/conv32_3x3_dense14\"\n",
    "if not os.path.isdir(path):\n",
    "    os.makedirs(path)\n",
    "\n",
    "get_evaluation(model, history, epochs, np_val_images, np_val_classes, path)\n",
    "\n",
    "path += f\"/conv32_3x3_dense14.tflite\"\n",
    "convert_model(model, path)\n",
    "generate_cpp(path)"
   ],
   "id": "9bee19392c8f8135",
   "outputs": [
    {
     "name": "stdout",
     "output_type": "stream",
     "text": [
      "Epoch 1/3\n"
     ]
    },
    {
     "name": "stderr",
     "output_type": "stream",
     "text": [
      "/home/moriogai/.virtualenvs/CVEsp32/lib/python3.12/site-packages/keras/src/layers/convolutional/base_conv.py:107: UserWarning: Do not pass an `input_shape`/`input_dim` argument to a layer. When using Sequential models, prefer using an `Input(shape)` object as the first layer in the model instead.\n",
      "  super().__init__(activity_regularizer=activity_regularizer, **kwargs)\n",
      "/home/moriogai/.virtualenvs/CVEsp32/lib/python3.12/site-packages/keras/src/backend/tensorflow/nn.py:635: UserWarning: \"`sparse_categorical_crossentropy` received `from_logits=True`, but the `output` argument was produced by a Softmax activation and thus does not represent logits. Was this intended?\n",
      "  output, from_logits = _get_logits(\n"
     ]
    },
    {
     "name": "stdout",
     "output_type": "stream",
     "text": [
      "\u001B[1m170/170\u001B[0m \u001B[32m━━━━━━━━━━━━━━━━━━━━\u001B[0m\u001B[37m\u001B[0m \u001B[1m3s\u001B[0m 9ms/step - loss: 105.2013 - sparse_categorical_accuracy: 0.1803 - val_loss: 2.2862 - val_sparse_categorical_accuracy: 0.2039\n",
      "Epoch 2/3\n",
      "\u001B[1m170/170\u001B[0m \u001B[32m━━━━━━━━━━━━━━━━━━━━\u001B[0m\u001B[37m\u001B[0m \u001B[1m1s\u001B[0m 4ms/step - loss: 2.2940 - sparse_categorical_accuracy: 0.1846 - val_loss: 2.2807 - val_sparse_categorical_accuracy: 0.2039\n",
      "Epoch 3/3\n",
      "\u001B[1m170/170\u001B[0m \u001B[32m━━━━━━━━━━━━━━━━━━━━\u001B[0m\u001B[37m\u001B[0m \u001B[1m1s\u001B[0m 5ms/step - loss: 2.2840 - sparse_categorical_accuracy: 0.2052 - val_loss: 2.2802 - val_sparse_categorical_accuracy: 0.2039\n",
      "\u001B[1m395/395\u001B[0m \u001B[32m━━━━━━━━━━━━━━━━━━━━\u001B[0m\u001B[37m\u001B[0m \u001B[1m0s\u001B[0m 811us/step - loss: 2.2737 - sparse_categorical_accuracy: 0.2060\n",
      "[2.28019642829895, 0.20391349494457245]\n",
      "INFO:tensorflow:Assets written to: /tmp/tmpd1lj84yk/assets\n"
     ]
    },
    {
     "name": "stderr",
     "output_type": "stream",
     "text": [
      "INFO:tensorflow:Assets written to: /tmp/tmpd1lj84yk/assets\n"
     ]
    },
    {
     "name": "stdout",
     "output_type": "stream",
     "text": [
      "Saved artifact at '/tmp/tmpd1lj84yk'. The following endpoints are available:\n",
      "\n",
      "* Endpoint 'serve'\n",
      "  args_0 (POSITIONAL_ONLY): TensorSpec(shape=(None, 75, 75, 3), dtype=tf.float32, name='keras_tensor_161')\n",
      "Output Type:\n",
      "  TensorSpec(shape=(None, 14), dtype=tf.float32, name=None)\n",
      "Captures:\n",
      "  138048237688912: TensorSpec(shape=(), dtype=tf.resource, name=None)\n",
      "  138048237694096: TensorSpec(shape=(), dtype=tf.resource, name=None)\n",
      "  138048237697552: TensorSpec(shape=(), dtype=tf.resource, name=None)\n",
      "  138048237688336: TensorSpec(shape=(), dtype=tf.resource, name=None)\n"
     ]
    },
    {
     "name": "stderr",
     "output_type": "stream",
     "text": [
      "W0000 00:00:1732049808.914801   25429 tf_tfl_flatbuffer_helpers.cc:365] Ignored output_format.\n",
      "W0000 00:00:1732049808.914813   25429 tf_tfl_flatbuffer_helpers.cc:368] Ignored drop_control_dependency.\n"
     ]
    }
   ],
   "execution_count": 91
  },
  {
   "metadata": {
    "ExecuteTime": {
     "end_time": "2024-11-19T20:40:26.991379Z",
     "start_time": "2024-11-19T20:40:26.989759Z"
    }
   },
   "cell_type": "code",
   "source": "",
   "id": "86e587f801c9c78e",
   "outputs": [],
   "execution_count": null
  }
 ],
 "metadata": {
  "kernelspec": {
   "display_name": "Python 3",
   "language": "python",
   "name": "python3"
  },
  "language_info": {
   "codemirror_mode": {
    "name": "ipython",
    "version": 2
   },
   "file_extension": ".py",
   "mimetype": "text/x-python",
   "name": "python",
   "nbconvert_exporter": "python",
   "pygments_lexer": "ipython2",
   "version": "2.7.6"
  }
 },
 "nbformat": 4,
 "nbformat_minor": 5
}
